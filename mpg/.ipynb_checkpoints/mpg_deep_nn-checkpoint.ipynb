{
 "cells": [
  {
   "cell_type": "code",
   "execution_count": 2,
   "metadata": {
    "collapsed": true
   },
   "outputs": [],
   "source": [
    "import numpy as np\n",
    "import pandas as pd\n",
    "from nn_tools import L_layer_model\n",
    "from nn_test_cases import L_model_backward_test_case"
   ]
  },
  {
   "cell_type": "code",
   "execution_count": 3,
   "metadata": {
    "collapsed": false
   },
   "outputs": [],
   "source": [
    "layers = [8, 5, 5, 5, 1]"
   ]
  },
  {
   "cell_type": "code",
   "execution_count": 4,
   "metadata": {
    "collapsed": false
   },
   "outputs": [
    {
     "name": "stdout",
     "output_type": "stream",
     "text": [
      "Cost after iteration 0: 0.693147\n",
      "Cost after iteration 100: 0.684898\n",
      "Cost after iteration 200: 0.679226\n",
      "Cost after iteration 300: 0.675323\n",
      "Cost after iteration 400: 0.672632\n",
      "Cost after iteration 500: 0.670772\n",
      "Cost after iteration 600: 0.669486\n",
      "Cost after iteration 700: 0.668594\n",
      "Cost after iteration 800: 0.667975\n",
      "Cost after iteration 900: 0.667545\n",
      "Cost after iteration 1000: 0.667246\n",
      "Cost after iteration 1100: 0.667037\n",
      "Cost after iteration 1200: 0.666892\n",
      "Cost after iteration 1300: 0.666790\n",
      "Cost after iteration 1400: 0.666719\n",
      "Cost after iteration 1500: 0.666670\n",
      "Cost after iteration 1600: 0.666635\n",
      "Cost after iteration 1700: 0.666611\n",
      "Cost after iteration 1800: 0.666594\n",
      "Cost after iteration 1900: 0.666582\n",
      "Cost after iteration 2000: 0.666574\n",
      "Cost after iteration 2100: 0.666568\n",
      "Cost after iteration 2200: 0.666564\n",
      "Cost after iteration 2300: 0.666561\n",
      "Cost after iteration 2400: 0.666559\n"
     ]
    },
    {
     "data": {
      "image/png": "[encoded data removed]",
      "text/plain": [
       "<matplotlib.figure.Figure at 0x20aa2babac8>"
      ]
     },
     "metadata": {},
     "output_type": "display_data"
    }
   ],
   "source": [
    "X = np.random.randn(8, 392)\n",
    "Y = np.random.randn(1, 392)\n",
    "Y[0, X[0, :] > 0.3] = 1\n",
    "Y[0, X[0, :] < 0.3] = 0\n",
    "parameters = L_layer_model(X, Y, layers, num_iterations = 2500, print_cost = True)"
   ]
  },
  {
   "cell_type": "code",
   "execution_count": null,
   "metadata": {
    "collapsed": false
   },
   "outputs": [],
   "source": []
  },
  {
   "cell_type": "code",
   "execution_count": null,
   "metadata": {
    "collapsed": true
   },
   "outputs": [],
   "source": []
  }
 ],
 "metadata": {
  "kernelspec": {
   "display_name": "Python 3",
   "language": "python",
   "name": "python3"
  },
  "language_info": {
   "codemirror_mode": {
    "name": "ipython",
    "version": 3
   },
   "file_extension": ".py",
   "mimetype": "text/x-python",
   "name": "python",
   "nbconvert_exporter": "python",
   "pygments_lexer": "ipython3",
   "version": "3.6.2"
  }
 },
 "nbformat": 4,
 "nbformat_minor": 2
}
