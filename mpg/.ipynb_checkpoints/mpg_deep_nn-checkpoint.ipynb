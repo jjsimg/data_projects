{
 "cells": [
  {
   "cell_type": "code",
   "execution_count": 1,
   "metadata": {
    "collapsed": true
   },
   "outputs": [],
   "source": [
    "import numpy as np\n",
    "import pandas as pd\n",
    "from nn_tools import L_layer_model"
   ]
  },
  {
   "cell_type": "code",
   "execution_count": 2,
   "metadata": {
    "collapsed": false
   },
   "outputs": [],
   "source": [
    "layers = [8, 5, 5, 5, 1]"
   ]
  },
  {
   "cell_type": "code",
   "execution_count": 3,
   "metadata": {
    "collapsed": false
   },
   "outputs": [
    {
     "name": "stdout",
     "output_type": "stream",
     "text": [
      "Cost after iteration 0: 0.693147\n",
      "Cost after iteration 100: 0.684898\n",
      "Cost after iteration 200: 0.679227\n",
      "Cost after iteration 300: 0.675323\n",
      "Cost after iteration 400: 0.672632\n",
      "Cost after iteration 500: 0.670773\n",
      "Cost after iteration 600: 0.669486\n",
      "Cost after iteration 700: 0.668595\n",
      "Cost after iteration 800: 0.667976\n",
      "Cost after iteration 900: 0.667545\n",
      "Cost after iteration 1000: 0.667246\n",
      "Cost after iteration 1100: 0.667037\n",
      "Cost after iteration 1200: 0.666892\n",
      "Cost after iteration 1300: 0.666790\n",
      "Cost after iteration 1400: 0.666719\n",
      "Cost after iteration 1500: 0.666670\n",
      "Cost after iteration 1600: 0.666635\n",
      "Cost after iteration 1700: 0.666611\n",
      "Cost after iteration 1800: 0.666594\n",
      "Cost after iteration 1900: 0.666582\n",
      "Cost after iteration 2000: 0.666574\n",
      "Cost after iteration 2100: 0.666568\n",
      "Cost after iteration 2200: 0.666564\n",
      "Cost after iteration 2300: 0.666561\n",
      "Cost after iteration 2400: 0.666559\n"
     ]
    },
    {
     "data": {
      "image/png": "[encoded data removed]",
      "text/plain": [
       "<matplotlib.figure.Figure at 0x47e5940>"
      ]
     },
     "metadata": {},
     "output_type": "display_data"
    }
   ],
   "source": [
    "X = np.random.randn(8, 392)\n",
    "Y = np.random.randn(1, 392)\n",
    "Y[0, X[0, :] > 0.3] = 1\n",
    "Y[0, X[0, :] < 0.3] = 0\n",
    "parameters = L_layer_model(X, Y, layers, num_iterations = 2500, print_cost = True)"
   ]
  },
  {
   "cell_type": "code",
   "execution_count": 4,
   "metadata": {
    "collapsed": true
   },
   "outputs": [],
   "source": []
  },
  {
   "cell_type": "code",
   "execution_count": 5,
   "metadata": {
    "collapsed": false
   },
   "outputs": [
    {
     "data": {
      "text/plain": [
       "{'W1': array([[-0.41675785, -0.05626683, -2.1361961 ,  1.64027081],\n",
       "        [-1.79343559, -0.84174737,  0.50288142, -1.24528809],\n",
       "        [-1.05795222, -0.90900761,  0.55145404,  2.29220801]]),\n",
       " 'W2': array([[-0.5961597 , -0.0191305 ,  1.17500122]]),\n",
       " 'b1': array([[ 0.04153939],\n",
       "        [-1.11792545],\n",
       "        [ 0.53905832]]),\n",
       " 'b2': array([[-0.74787095]])}"
      ]
     },
     "execution_count": 5,
     "metadata": {},
     "output_type": "execute_result"
    }
   ],
   "source": []
  },
  {
   "cell_type": "code",
   "execution_count": 6,
   "metadata": {
    "collapsed": false
   },
   "outputs": [
    {
     "data": {
      "text/plain": [
       "{'dW1': array([[ 1.78862847,  0.43650985,  0.09649747, -1.8634927 ],\n",
       "        [-0.2773882 , -0.35475898, -0.08274148, -0.62700068],\n",
       "        [-0.04381817, -0.47721803, -1.31386475,  0.88462238]]),\n",
       " 'dW2': array([[-0.40467741, -0.54535995, -1.54647732]]),\n",
       " 'db1': array([[ 0.88131804],\n",
       "        [ 1.70957306],\n",
       "        [ 0.05003364]]),\n",
       " 'db2': array([[ 0.98236743]])}"
      ]
     },
     "execution_count": 6,
     "metadata": {},
     "output_type": "execute_result"
    }
   ],
   "source": [
    "grads"
   ]
  },
  {
   "cell_type": "code",
   "execution_count": null,
   "metadata": {
    "collapsed": true
   },
   "outputs": [],
   "source": []
  }
 ],
 "metadata": {
  "kernelspec": {
   "display_name": "Python 3",
   "language": "python",
   "name": "python3"
  },
  "language_info": {
   "codemirror_mode": {
    "name": "ipython",
    "version": 3
   },
   "file_extension": ".py",
   "mimetype": "text/x-python",
   "name": "python",
   "nbconvert_exporter": "python",
   "pygments_lexer": "ipython3",
   "version": "3.6.2"
  }
 },
 "nbformat": 4,
 "nbformat_minor": 2
}
