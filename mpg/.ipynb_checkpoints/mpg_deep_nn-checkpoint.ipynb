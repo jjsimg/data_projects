{
 "cells": [
  {
   "cell_type": "code",
   "execution_count": 2,
   "metadata": {
    "collapsed": true
   },
   "outputs": [],
   "source": [
    "import numpy as np\n",
    "import pandas as pd\n",
    "from nn_tools import L_layer_model"
   ]
  },
  {
   "cell_type": "code",
   "execution_count": 3,
   "metadata": {
    "collapsed": false
   },
   "outputs": [],
   "source": [
    "layers = [8, 5, 5, 5, 1]"
   ]
  },
  {
   "cell_type": "code",
   "execution_count": 4,
   "metadata": {
    "collapsed": false
   },
   "outputs": [
    {
     "name": "stdout",
     "output_type": "stream",
     "text": [
      "Cost after iteration 0: 0.693147\n",
      "Cost after iteration 100: 0.686629\n",
      "Cost after iteration 200: 0.682149\n",
      "Cost after iteration 300: 0.679066\n",
      "Cost after iteration 400: 0.676942\n",
      "Cost after iteration 500: 0.675477\n",
      "Cost after iteration 600: 0.674465\n",
      "Cost after iteration 700: 0.673764\n",
      "Cost after iteration 800: 0.673279\n",
      "Cost after iteration 900: 0.672942\n",
      "Cost after iteration 1000: 0.672709\n",
      "Cost after iteration 1100: 0.672547\n",
      "Cost after iteration 1200: 0.672434\n",
      "Cost after iteration 1300: 0.672355\n",
      "Cost after iteration 1400: 0.672301\n",
      "Cost after iteration 1500: 0.672263\n",
      "Cost after iteration 1600: 0.672236\n",
      "Cost after iteration 1700: 0.672218\n",
      "Cost after iteration 1800: 0.672205\n",
      "Cost after iteration 1900: 0.672196\n",
      "Cost after iteration 2000: 0.672190\n",
      "Cost after iteration 2100: 0.672186\n",
      "Cost after iteration 2200: 0.672183\n",
      "Cost after iteration 2300: 0.672180\n",
      "Cost after iteration 2400: 0.672179\n"
     ]
    },
    {
     "data": {
      "image/png": "[encoded data removed]",
      "text/plain": [
       "<matplotlib.figure.Figure at 0x23ed508deb8>"
      ]
     },
     "metadata": {},
     "output_type": "display_data"
    }
   ],
   "source": [
    "X = np.random.randn(8, 392)\n",
    "Y = np.random.randn(1, 392)\n",
    "Y[0, X[0, :] > 0.3] = 1\n",
    "Y[0, X[0, :] < 0.3] = 0\n",
    "parameters = L_layer_model(X, Y, layers, num_iterations = 2500, print_cost = True)"
   ]
  },
  {
   "cell_type": "code",
   "execution_count": null,
   "metadata": {
    "collapsed": true
   },
   "outputs": [],
   "source": []
  }
 ],
 "metadata": {
  "kernelspec": {
   "display_name": "Python 3",
   "language": "python",
   "name": "python3"
  },
  "language_info": {
   "codemirror_mode": {
    "name": "ipython",
    "version": 3
   },
   "file_extension": ".py",
   "mimetype": "text/x-python",
   "name": "python",
   "nbconvert_exporter": "python",
   "pygments_lexer": "ipython3",
   "version": "3.6.2"
  }
 },
 "nbformat": 4,
 "nbformat_minor": 2
}
