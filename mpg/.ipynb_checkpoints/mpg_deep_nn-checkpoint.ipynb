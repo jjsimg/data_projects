{
 "cells": [
  {
   "cell_type": "code",
   "execution_count": 11,
   "metadata": {
    "collapsed": true
   },
   "outputs": [],
   "source": [
    "import numpy as np\n",
    "import pandas as pd\n",
    "from nn_tools import L_layer_model"
   ]
  },
  {
   "cell_type": "code",
   "execution_count": 12,
   "metadata": {
    "collapsed": false
   },
   "outputs": [],
   "source": [
    "layers = [8, 5, 5, 5, 1]"
   ]
  },
  {
   "cell_type": "code",
   "execution_count": 13,
   "metadata": {
    "collapsed": false
   },
   "outputs": [
    {
     "name": "stdout",
     "output_type": "stream",
     "text": [
      "Cost after iteration 0: 0.693147\n",
      "Cost after iteration 100: 0.682962\n",
      "Cost after iteration 200: 0.675960\n",
      "Cost after iteration 300: 0.671138\n",
      "Cost after iteration 400: 0.667810\n",
      "Cost after iteration 500: 0.665509\n",
      "Cost after iteration 600: 0.663914\n",
      "Cost after iteration 700: 0.662806\n",
      "Cost after iteration 800: 0.662035\n",
      "Cost after iteration 900: 0.661498\n",
      "Cost after iteration 1000: 0.661123\n",
      "Cost after iteration 1100: 0.660860\n",
      "Cost after iteration 1200: 0.660677\n",
      "Cost after iteration 1300: 0.660548\n",
      "Cost after iteration 1400: 0.660458\n",
      "Cost after iteration 1500: 0.660395\n",
      "Cost after iteration 1600: 0.660351\n",
      "Cost after iteration 1700: 0.660320\n",
      "Cost after iteration 1800: 0.660298\n",
      "Cost after iteration 1900: 0.660283\n",
      "Cost after iteration 2000: 0.660272\n",
      "Cost after iteration 2100: 0.660264\n",
      "Cost after iteration 2200: 0.660259\n",
      "Cost after iteration 2300: 0.660255\n",
      "Cost after iteration 2400: 0.660252\n"
     ]
    },
    {
     "data": {
      "image/png": "[encoded data removed]",
      "text/plain": [
       "<matplotlib.figure.Figure at 0x23fa51d4f98>"
      ]
     },
     "metadata": {},
     "output_type": "display_data"
    }
   ],
   "source": [
    "X = np.random.randn(8, 392)\n",
    "Y = np.random.randn(1, 392)\n",
    "Y[0, X[0, :] > 0.3] = 1\n",
    "Y[0, X[0, :] < 0.3] = 0\n",
    "parameters = L_layer_model(X, Y, layers, num_iterations = 2500, print_cost = True)"
   ]
  },
  {
   "cell_type": "code",
   "execution_count": null,
   "metadata": {
    "collapsed": true
   },
   "outputs": [],
   "source": []
  }
 ],
 "metadata": {
  "kernelspec": {
   "display_name": "Python 3",
   "language": "python",
   "name": "python3"
  },
  "language_info": {
   "codemirror_mode": {
    "name": "ipython",
    "version": 3
   },
   "file_extension": ".py",
   "mimetype": "text/x-python",
   "name": "python",
   "nbconvert_exporter": "python",
   "pygments_lexer": "ipython3",
   "version": "3.6.2"
  }
 },
 "nbformat": 4,
 "nbformat_minor": 2
}
