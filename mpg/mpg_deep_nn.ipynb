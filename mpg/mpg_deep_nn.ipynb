{
 "cells": [
  {
   "cell_type": "code",
   "execution_count": 1,
   "metadata": {
    "collapsed": true
   },
   "outputs": [],
   "source": [
    "import numpy as np\n",
    "import pandas as pd\n",
    "from nn_tools import L_layer_model"
   ]
  },
  {
   "cell_type": "code",
   "execution_count": 2,
   "metadata": {
    "collapsed": false
   },
   "outputs": [],
   "source": [
    "layers = [8, 5, 5, 5, 1]"
   ]
  },
  {
   "cell_type": "code",
   "execution_count": 3,
   "metadata": {
    "collapsed": false
   },
   "outputs": [
    {
     "name": "stdout",
     "output_type": "stream",
     "text": [
      "Cost after iteration 0: 0.693147\n",
      "Cost after iteration 100: 0.683366\n",
      "Cost after iteration 200: 0.676641\n",
      "Cost after iteration 300: 0.672010\n",
      "Cost after iteration 400: 0.668815\n",
      "Cost after iteration 500: 0.666606\n",
      "Cost after iteration 600: 0.665076\n",
      "Cost after iteration 700: 0.664013\n",
      "Cost after iteration 800: 0.663274\n",
      "Cost after iteration 900: 0.662759\n",
      "Cost after iteration 1000: 0.662400\n",
      "Cost after iteration 1100: 0.662149\n",
      "Cost after iteration 1200: 0.661974\n",
      "Cost after iteration 1300: 0.661851\n",
      "Cost after iteration 1400: 0.661765\n",
      "Cost after iteration 1500: 0.661705\n",
      "Cost after iteration 1600: 0.661663\n",
      "Cost after iteration 1700: 0.661633\n",
      "Cost after iteration 1800: 0.661612\n",
      "Cost after iteration 1900: 0.661598\n",
      "Cost after iteration 2000: 0.661587\n",
      "Cost after iteration 2100: 0.661580\n",
      "Cost after iteration 2200: 0.661575\n",
      "Cost after iteration 2300: 0.661572\n",
      "Cost after iteration 2400: 0.661569\n"
     ]
    },
    {
     "data": {
      "image/png": "[encoded data removed]",
      "text/plain": [
       "<matplotlib.figure.Figure at 0x7e00cf8>"
      ]
     },
     "metadata": {},
     "output_type": "display_data"
    }
   ],
   "source": [
    "X = np.random.randn(8, 392)\n",
    "Y = np.random.randn(1, 392)\n",
    "Y[0, X[0, :] > 0.3] = 1\n",
    "Y[0, X[0, :] < 0.3] = 0\n",
    "parameters = L_layer_model(X, Y, layers, num_iterations = 2500, print_cost = True)"
   ]
  },
  {
   "cell_type": "code",
   "execution_count": null,
   "metadata": {
    "collapsed": true
   },
   "outputs": [],
   "source": []
  }
 ],
 "metadata": {
  "kernelspec": {
   "display_name": "Python 3",
   "language": "python",
   "name": "python3"
  },
  "language_info": {
   "codemirror_mode": {
    "name": "ipython",
    "version": 3
   },
   "file_extension": ".py",
   "mimetype": "text/x-python",
   "name": "python",
   "nbconvert_exporter": "python",
   "pygments_lexer": "ipython3",
   "version": "3.6.2"
  }
 },
 "nbformat": 4,
 "nbformat_minor": 2
}
