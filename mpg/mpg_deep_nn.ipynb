{
 "cells": [
  {
   "cell_type": "code",
   "execution_count": 10,
   "metadata": {
    "collapsed": true
   },
   "outputs": [],
   "source": [
    "import numpy as np\n",
    "import pandas as pd\n",
    "from sklearn import preprocessing\n",
    "from nn_tools import L_layer_model"
   ]
  },
  {
   "cell_type": "code",
   "execution_count": 11,
   "metadata": {
    "collapsed": true
   },
   "outputs": [],
   "source": [
    "# load dataset\n",
    "data = pd.read_csv(\"data/auto-mpg.data-original\", delim_whitespace = True, header = None)\n",
    "# Add column headings\n",
    "data.columns = ['MPG', 'Cylinders', 'Displacement', 'Horsepower', 'Weight', 'Acceleration', 'Model Year', 'Origin', 'Car Name']"
   ]
  },
  {
   "cell_type": "code",
   "execution_count": 12,
   "metadata": {
    "collapsed": false
   },
   "outputs": [
    {
     "data": {
      "text/html": [
       "<div>\n",
       "<table border=\"1\" class=\"dataframe\">\n",
       "  <thead>\n",
       "    <tr style=\"text-align: right;\">\n",
       "      <th></th>\n",
       "      <th>MPG</th>\n",
       "      <th>Cylinders</th>\n",
       "      <th>Displacement</th>\n",
       "      <th>Horsepower</th>\n",
       "      <th>Weight</th>\n",
       "      <th>Acceleration</th>\n",
       "      <th>Model Year</th>\n",
       "      <th>Origin</th>\n",
       "      <th>Car Name</th>\n",
       "    </tr>\n",
       "  </thead>\n",
       "  <tbody>\n",
       "    <tr>\n",
       "      <th>0</th>\n",
       "      <td>18.0</td>\n",
       "      <td>8.0</td>\n",
       "      <td>307.0</td>\n",
       "      <td>130.0</td>\n",
       "      <td>3504.0</td>\n",
       "      <td>12.0</td>\n",
       "      <td>70.0</td>\n",
       "      <td>1.0</td>\n",
       "      <td>chevrolet chevelle malibu</td>\n",
       "    </tr>\n",
       "    <tr>\n",
       "      <th>1</th>\n",
       "      <td>15.0</td>\n",
       "      <td>8.0</td>\n",
       "      <td>350.0</td>\n",
       "      <td>165.0</td>\n",
       "      <td>3693.0</td>\n",
       "      <td>11.5</td>\n",
       "      <td>70.0</td>\n",
       "      <td>1.0</td>\n",
       "      <td>buick skylark 320</td>\n",
       "    </tr>\n",
       "    <tr>\n",
       "      <th>2</th>\n",
       "      <td>18.0</td>\n",
       "      <td>8.0</td>\n",
       "      <td>318.0</td>\n",
       "      <td>150.0</td>\n",
       "      <td>3436.0</td>\n",
       "      <td>11.0</td>\n",
       "      <td>70.0</td>\n",
       "      <td>1.0</td>\n",
       "      <td>plymouth satellite</td>\n",
       "    </tr>\n",
       "    <tr>\n",
       "      <th>3</th>\n",
       "      <td>16.0</td>\n",
       "      <td>8.0</td>\n",
       "      <td>304.0</td>\n",
       "      <td>150.0</td>\n",
       "      <td>3433.0</td>\n",
       "      <td>12.0</td>\n",
       "      <td>70.0</td>\n",
       "      <td>1.0</td>\n",
       "      <td>amc rebel sst</td>\n",
       "    </tr>\n",
       "    <tr>\n",
       "      <th>4</th>\n",
       "      <td>17.0</td>\n",
       "      <td>8.0</td>\n",
       "      <td>302.0</td>\n",
       "      <td>140.0</td>\n",
       "      <td>3449.0</td>\n",
       "      <td>10.5</td>\n",
       "      <td>70.0</td>\n",
       "      <td>1.0</td>\n",
       "      <td>ford torino</td>\n",
       "    </tr>\n",
       "  </tbody>\n",
       "</table>\n",
       "</div>"
      ],
      "text/plain": [
       "    MPG  Cylinders  Displacement  Horsepower  Weight  Acceleration  \\\n",
       "0  18.0        8.0         307.0       130.0  3504.0          12.0   \n",
       "1  15.0        8.0         350.0       165.0  3693.0          11.5   \n",
       "2  18.0        8.0         318.0       150.0  3436.0          11.0   \n",
       "3  16.0        8.0         304.0       150.0  3433.0          12.0   \n",
       "4  17.0        8.0         302.0       140.0  3449.0          10.5   \n",
       "\n",
       "   Model Year  Origin                   Car Name  \n",
       "0        70.0     1.0  chevrolet chevelle malibu  \n",
       "1        70.0     1.0          buick skylark 320  \n",
       "2        70.0     1.0         plymouth satellite  \n",
       "3        70.0     1.0              amc rebel sst  \n",
       "4        70.0     1.0                ford torino  "
      ]
     },
     "execution_count": 12,
     "metadata": {},
     "output_type": "execute_result"
    }
   ],
   "source": [
    "data.head()"
   ]
  },
  {
   "cell_type": "code",
   "execution_count": 13,
   "metadata": {
    "collapsed": false
   },
   "outputs": [
    {
     "data": {
      "text/html": [
       "<div>\n",
       "<table border=\"1\" class=\"dataframe\">\n",
       "  <thead>\n",
       "    <tr style=\"text-align: right;\">\n",
       "      <th></th>\n",
       "      <th>MPG</th>\n",
       "      <th>Cylinders</th>\n",
       "      <th>Displacement</th>\n",
       "      <th>Horsepower</th>\n",
       "      <th>Weight</th>\n",
       "      <th>Acceleration</th>\n",
       "      <th>Model Year</th>\n",
       "      <th>Origin</th>\n",
       "      <th>Car Name</th>\n",
       "    </tr>\n",
       "  </thead>\n",
       "  <tbody>\n",
       "    <tr>\n",
       "      <th>0</th>\n",
       "      <td>18.0</td>\n",
       "      <td>8.0</td>\n",
       "      <td>307.0</td>\n",
       "      <td>130.0</td>\n",
       "      <td>3504.0</td>\n",
       "      <td>12.0</td>\n",
       "      <td>70.0</td>\n",
       "      <td>1.0</td>\n",
       "      <td>50</td>\n",
       "    </tr>\n",
       "    <tr>\n",
       "      <th>1</th>\n",
       "      <td>15.0</td>\n",
       "      <td>8.0</td>\n",
       "      <td>350.0</td>\n",
       "      <td>165.0</td>\n",
       "      <td>3693.0</td>\n",
       "      <td>11.5</td>\n",
       "      <td>70.0</td>\n",
       "      <td>1.0</td>\n",
       "      <td>37</td>\n",
       "    </tr>\n",
       "    <tr>\n",
       "      <th>2</th>\n",
       "      <td>18.0</td>\n",
       "      <td>8.0</td>\n",
       "      <td>318.0</td>\n",
       "      <td>150.0</td>\n",
       "      <td>3436.0</td>\n",
       "      <td>11.0</td>\n",
       "      <td>70.0</td>\n",
       "      <td>1.0</td>\n",
       "      <td>235</td>\n",
       "    </tr>\n",
       "    <tr>\n",
       "      <th>3</th>\n",
       "      <td>16.0</td>\n",
       "      <td>8.0</td>\n",
       "      <td>304.0</td>\n",
       "      <td>150.0</td>\n",
       "      <td>3433.0</td>\n",
       "      <td>12.0</td>\n",
       "      <td>70.0</td>\n",
       "      <td>1.0</td>\n",
       "      <td>14</td>\n",
       "    </tr>\n",
       "    <tr>\n",
       "      <th>4</th>\n",
       "      <td>17.0</td>\n",
       "      <td>8.0</td>\n",
       "      <td>302.0</td>\n",
       "      <td>140.0</td>\n",
       "      <td>3449.0</td>\n",
       "      <td>10.5</td>\n",
       "      <td>70.0</td>\n",
       "      <td>1.0</td>\n",
       "      <td>164</td>\n",
       "    </tr>\n",
       "  </tbody>\n",
       "</table>\n",
       "</div>"
      ],
      "text/plain": [
       "    MPG  Cylinders  Displacement  Horsepower  Weight  Acceleration  \\\n",
       "0  18.0        8.0         307.0       130.0  3504.0          12.0   \n",
       "1  15.0        8.0         350.0       165.0  3693.0          11.5   \n",
       "2  18.0        8.0         318.0       150.0  3436.0          11.0   \n",
       "3  16.0        8.0         304.0       150.0  3433.0          12.0   \n",
       "4  17.0        8.0         302.0       140.0  3449.0          10.5   \n",
       "\n",
       "   Model Year  Origin  Car Name  \n",
       "0        70.0     1.0        50  \n",
       "1        70.0     1.0        37  \n",
       "2        70.0     1.0       235  \n",
       "3        70.0     1.0        14  \n",
       "4        70.0     1.0       164  "
      ]
     },
     "execution_count": 13,
     "metadata": {},
     "output_type": "execute_result"
    }
   ],
   "source": [
    "# Converting labels to integer values\n",
    "le = preprocessing.LabelEncoder()\n",
    "labels = data.iloc[:, 8]\n",
    "le.fit(labels)\n",
    "data.iloc[:, 8] = le.transform(labels)\n",
    "data.head()"
   ]
  },
  {
   "cell_type": "code",
   "execution_count": 14,
   "metadata": {
    "collapsed": false
   },
   "outputs": [
    {
     "name": "stdout",
     "output_type": "stream",
     "text": [
      "The Shape of the data: 406 x 9\n",
      "Number of NaN values: 14\n"
     ]
    }
   ],
   "source": [
    "# get shape of data\n",
    "number_of_nan = pd.isnull(data).sum().sum() # get number of nan values\n",
    "print(\"The Shape of the data: {} x {}\".format(data.shape[0], data.shape[1]))\n",
    "print(\"Number of NaN values: {}\".format(number_of_nan))"
   ]
  },
  {
   "cell_type": "code",
   "execution_count": 15,
   "metadata": {
    "collapsed": false
   },
   "outputs": [
    {
     "name": "stdout",
     "output_type": "stream",
     "text": [
      "Finished converting Na values to Median values\n",
      "The number of Na values remaining in the data dataframe is: 0\n"
     ]
    }
   ],
   "source": [
    "column_names = ['MPG', 'Cylinders', 'Displacement', 'Horsepower', 'Weight', 'Acceleration', 'Model Year', 'Origin']\n",
    "data_dropna = data.dropna()\n",
    "for cn in column_names:\n",
    "    data[cn] = data[cn].fillna(np.median(data_dropna[cn]))\n",
    "    \n",
    "print(\"Finished converting Na values to Median values\")\n",
    "\n",
    "number_of_nan = pd.isnull(data).sum().sum() # get number of nan values\n",
    "print(\"The number of Na values remaining in the data dataframe is: {}\".format(number_of_nan))"
   ]
  },
  {
   "cell_type": "code",
   "execution_count": 30,
   "metadata": {
    "collapsed": true
   },
   "outputs": [],
   "source": [
    "layers = [8, 1]"
   ]
  },
  {
   "cell_type": "code",
   "execution_count": 31,
   "metadata": {
    "collapsed": false
   },
   "outputs": [
    {
     "name": "stdout",
     "output_type": "stream",
     "text": [
      "X shape:  (8, 392)\n",
      "Y shape:  (1, 392)\n"
     ]
    }
   ],
   "source": [
    "X = np.array(data_dropna.iloc[:, 1:].T)\n",
    "Y = np.array(data_dropna.iloc[:, 0]).reshape(1, X.shape[1])\n",
    "\n",
    "# Normalize\n",
    "X = X / X.max(axis = 1).reshape(X.shape[0], 1)\n",
    "Y = Y / Y.max()\n",
    "print(\"X shape: \", X.shape)\n",
    "print(\"Y shape: \", Y.shape)"
   ]
  },
  {
   "cell_type": "code",
   "execution_count": 39,
   "metadata": {
    "collapsed": false
   },
   "outputs": [
    {
     "name": "stdout",
     "output_type": "stream",
     "text": [
      "Cost after iteration 0: 0.693531\n",
      "Cost after iteration 100: 0.670799\n",
      "Cost after iteration 200: 0.661556\n",
      "Cost after iteration 300: 0.657543\n",
      "Cost after iteration 400: 0.655644\n",
      "Cost after iteration 500: 0.654644\n",
      "Cost after iteration 600: 0.654049\n",
      "Cost after iteration 700: 0.653651\n",
      "Cost after iteration 800: 0.653358\n",
      "Cost after iteration 900: 0.653126\n",
      "Cost after iteration 1000: 0.652933\n",
      "Cost after iteration 1100: 0.652768\n",
      "Cost after iteration 1200: 0.652623\n",
      "Cost after iteration 1300: 0.652494\n",
      "Cost after iteration 1400: 0.652377\n",
      "Cost after iteration 1500: 0.652269\n",
      "Cost after iteration 1600: 0.652170\n",
      "Cost after iteration 1700: 0.652078\n",
      "Cost after iteration 1800: 0.651991\n",
      "Cost after iteration 1900: 0.651909\n",
      "Cost after iteration 2000: 0.651831\n",
      "Cost after iteration 2100: 0.651757\n",
      "Cost after iteration 2200: 0.651685\n",
      "Cost after iteration 2300: 0.651616\n",
      "Cost after iteration 2400: 0.651550\n",
      "Cost after iteration 2500: 0.651486\n",
      "Cost after iteration 2600: 0.651423\n",
      "Cost after iteration 2700: 0.651363\n",
      "Cost after iteration 2800: 0.651303\n",
      "Cost after iteration 2900: 0.651246\n",
      "Cost after iteration 3000: 0.651190\n",
      "Cost after iteration 3100: 0.651135\n",
      "Cost after iteration 3200: 0.651081\n",
      "Cost after iteration 3300: 0.651028\n",
      "Cost after iteration 3400: 0.650977\n",
      "Cost after iteration 3500: 0.650926\n",
      "Cost after iteration 3600: 0.650877\n",
      "Cost after iteration 3700: 0.650828\n",
      "Cost after iteration 3800: 0.650780\n",
      "Cost after iteration 3900: 0.650733\n",
      "Cost after iteration 4000: 0.650687\n",
      "Cost after iteration 4100: 0.650642\n",
      "Cost after iteration 4200: 0.650597\n",
      "Cost after iteration 4300: 0.650553\n",
      "Cost after iteration 4400: 0.650510\n",
      "Cost after iteration 4500: 0.650468\n",
      "Cost after iteration 4600: 0.650426\n",
      "Cost after iteration 4700: 0.650385\n",
      "Cost after iteration 4800: 0.650345\n",
      "Cost after iteration 4900: 0.650305\n",
      "Cost after iteration 5000: 0.650266\n",
      "Cost after iteration 5100: 0.650227\n",
      "Cost after iteration 5200: 0.650189\n",
      "Cost after iteration 5300: 0.650152\n",
      "Cost after iteration 5400: 0.650115\n",
      "Cost after iteration 5500: 0.650079\n",
      "Cost after iteration 5600: 0.650043\n",
      "Cost after iteration 5700: 0.650008\n",
      "Cost after iteration 5800: 0.649973\n",
      "Cost after iteration 5900: 0.649939\n",
      "Cost after iteration 6000: 0.649905\n",
      "Cost after iteration 6100: 0.649872\n",
      "Cost after iteration 6200: 0.649839\n",
      "Cost after iteration 6300: 0.649806\n",
      "Cost after iteration 6400: 0.649774\n",
      "Cost after iteration 6500: 0.649743\n",
      "Cost after iteration 6600: 0.649712\n",
      "Cost after iteration 6700: 0.649681\n",
      "Cost after iteration 6800: 0.649651\n",
      "Cost after iteration 6900: 0.649621\n",
      "Cost after iteration 7000: 0.649592\n",
      "Cost after iteration 7100: 0.649562\n",
      "Cost after iteration 7200: 0.649534\n",
      "Cost after iteration 7300: 0.649505\n",
      "Cost after iteration 7400: 0.649477\n",
      "Cost after iteration 7500: 0.649450\n",
      "Cost after iteration 7600: 0.649423\n",
      "Cost after iteration 7700: 0.649396\n",
      "Cost after iteration 7800: 0.649369\n",
      "Cost after iteration 7900: 0.649343\n",
      "Cost after iteration 8000: 0.649317\n",
      "Cost after iteration 8100: 0.649291\n",
      "Cost after iteration 8200: 0.649266\n",
      "Cost after iteration 8300: 0.649241\n",
      "Cost after iteration 8400: 0.649216\n",
      "Cost after iteration 8500: 0.649192\n",
      "Cost after iteration 8600: 0.649168\n",
      "Cost after iteration 8700: 0.649144\n",
      "Cost after iteration 8800: 0.649121\n",
      "Cost after iteration 8900: 0.649097\n",
      "Cost after iteration 9000: 0.649074\n",
      "Cost after iteration 9100: 0.649052\n",
      "Cost after iteration 9200: 0.649029\n",
      "Cost after iteration 9300: 0.649007\n",
      "Cost after iteration 9400: 0.648985\n",
      "Cost after iteration 9500: 0.648963\n",
      "Cost after iteration 9600: 0.648942\n",
      "Cost after iteration 9700: 0.648921\n",
      "Cost after iteration 9800: 0.648900\n",
      "Cost after iteration 9900: 0.648879\n"
     ]
    },
    {
     "data": {
      "image/png": "[encoded data removed]",
      "text/plain": [
       "<matplotlib.figure.Figure at 0x1c2f94ba080>"
      ]
     },
     "metadata": {},
     "output_type": "display_data"
    }
   ],
   "source": [
    "parameters = L_layer_model(X, Y, layers, learning_rate = 0.1, num_iterations = 10000, print_cost = True)"
   ]
  },
  {
   "cell_type": "code",
   "execution_count": 38,
   "metadata": {
    "collapsed": false
   },
   "outputs": [
    {
     "data": {
      "text/plain": [
       "{'W1': array([[-0.50344888, -0.66328771, -0.52909479, -0.58288567,  0.30557069,\n",
       "          0.48007141,  0.51789334,  0.12317465]]),\n",
       " 'b1': array([[ 0.24198411]])}"
      ]
     },
     "execution_count": 38,
     "metadata": {},
     "output_type": "execute_result"
    }
   ],
   "source": [
    "parameters"
   ]
  },
  {
   "cell_type": "code",
   "execution_count": null,
   "metadata": {
    "collapsed": true
   },
   "outputs": [],
   "source": []
  }
 ],
 "metadata": {
  "kernelspec": {
   "display_name": "Python 3",
   "language": "python",
   "name": "python3"
  },
  "language_info": {
   "codemirror_mode": {
    "name": "ipython",
    "version": 3
   },
   "file_extension": ".py",
   "mimetype": "text/x-python",
   "name": "python",
   "nbconvert_exporter": "python",
   "pygments_lexer": "ipython3",
   "version": "3.6.2"
  }
 },
 "nbformat": 4,
 "nbformat_minor": 2
}
